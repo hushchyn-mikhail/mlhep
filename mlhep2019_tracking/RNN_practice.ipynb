{
 "cells": [
  {
   "cell_type": "code",
   "execution_count": 1,
   "metadata": {},
   "outputs": [],
   "source": [
    "import warnings\n",
    "warnings.filterwarnings('ignore')"
   ]
  },
  {
   "cell_type": "code",
   "execution_count": 2,
   "metadata": {},
   "outputs": [],
   "source": [
    "import tensorflow as tf\n",
    "tf.logging.set_verbosity(tf.logging.ERROR)"
   ]
  },
  {
   "cell_type": "code",
   "execution_count": 3,
   "metadata": {},
   "outputs": [],
   "source": [
    "%matplotlib inline\n",
    "import matplotlib.pyplot as plt\n",
    "\n",
    "import pandas\n",
    "import numpy\n",
    "\n",
    "import user_test_submission as submission"
   ]
  },
  {
   "cell_type": "code",
   "execution_count": 4,
   "metadata": {},
   "outputs": [
    {
     "name": "stderr",
     "output_type": "stream",
     "text": [
      "Using Theano backend.\n"
     ]
    }
   ],
   "source": [
    "from clusterer import Clusterer\n",
    "from sklearn.cluster import DBSCAN\n",
    "from keras import layers, models\n",
    "import numpy as np\n",
    "import math\n",
    "from metrics import predictor\n",
    "from sklearn.base import BaseEstimator"
   ]
  },
  {
   "cell_type": "markdown",
   "metadata": {},
   "source": [
    "# Track Pattern Recognition using Linear Approximation of a Track\n",
    "\n",
    "## Introduction\n",
    "\n",
    "Track pattern recognition is an early step of the reconstruction of data coming from a particle detector. It recognizes tracks among the subdetectors hits. Reconstructed track parameters allow to estimate the particle deviation in a magnetic field, and thus reconstruct its charge and momentum. This information is used for the reconstruction of the decay vertex, to identify the mother particle and for further particle identification.\n",
    "\n",
    "There is wide variety of the track pattern recognition methods. They differ in how they process the hits, what kind of tracks they are able to recognize and which requirements these tracks should satisfy. Therefore, specifics of an experiment and the detector geometry affect the tracking performance and track pattern recognition methods should be adapted to it accordingly.\n",
    "\n",
    "In this notebook a track pattern recognition for a 2D detector with circular geometry and uniform magnetic field is considered. The detector schema with hits and tracks of an event is shown in the figure below. The challenge is to recognize tracks of an event with the highest efficiecny. It supposed that one hit can belong to only one track. \n",
    "\n",
    "<img src=\"pic/detector.png\" /> <br>\n",
    "\n"
   ]
  },
  {
   "cell_type": "markdown",
   "metadata": {},
   "source": [
    "\n",
    "## Quick Glossary\n",
    "\n",
    "We use the following vocabulary in the context of practice session. It may be slightly different from the general high-energy physics context. Some terms are not used in the workbook, but kept here in case they are used in the discussions.\n",
    "\n",
    "* **event**: a recorded (or simulated) collision in which many particles are present, the basic unit of particle physics data\n",
    "* **pixel**: the smallest detector unit\n",
    "* **hit**: a pixel through which a particle has passed and left signal in a given event\n",
    "* **cluster**: a set of hits, belonging (or predicted to be belonging) to the trajectory of a single particle\n",
    "* **reconstruct**: same thing as predict, but may also refer to further derived quantities\n",
    "* **track**: a reconstructed particle, that is, a cluster but also including additional derived information, such as the overall curvature and angle\n",
    "* **vertex**: the point close to the center of the detector, from which the particles have originated\n",
    "* **impact parameter**: the shortest distance between a track and the origin\n",
    "* **(momentum/angle/etc) resolution** : width of the normal distribution of the difference between a predicted quantity and the true value of that quantity\n",
    "\n",
    "## Objectives\n",
    "\n",
    "The main objective of the challenge is the optimal matching of the hits in an event. The positions of the hits in the detector are provided as input data, and the user is expected to implement a clustering scheme (trained on data if needed), so that every hit is assigned to a cluster id.\n",
    "\n",
    "The value of the cluster id itself is not relevant for the task, what is relevant is which hits are clustered together, and whether this clustering corresponds well to the input particles. The score function that describes this is included in the notebook, and details will be mentioned there.\n",
    "\n",
    "## Application\n",
    "\n",
    "The user is expected to implement the class `clusterer.py`, which contains the `__init__`, `fit`, and `predict_single_event` functions.\n",
    "\n",
    "* **`__init__`** is where parameters should be set.\n",
    "* **`fit`** is the training function (not to be confused with track-fitting), where the algorithm has access to the ground-truth. This function is to be run once on an input array that contains a set of training events. The user is able to implement any event-level or particle-level segmentation of the input array in order to set up the training in any desired way.\n",
    "* **`predict_single_event`** is the function to reconstruct the hit clusters (tracks), returning an array of predicted (reconstructed) ids associated to each hit in the input array. This function takes only the hits from a single event as input, with the event_id dropped, and the RAMP machinery takes care of running this function on each event.\n",
    "\n",
    "The **task**  is to implement this class in a way that the predict_single_event function returns a numpy array of assigned cluster ids. At any level of this task, machine-learning techniques can be employed for sub-tasks defined by the user.\n",
    "\n",
    "## Detector\n",
    "\n",
    "Image from the Atlas experiment:\n",
    "\n",
    "<img src=\"pic/atlas2009.png\" /> <br>\n",
    "\n",
    "The data provided to the user is a list of hit positions from a simple toy detector model that mimics the Atlas detector design (which is generic enough for recent silicon-based tracking detectors). The detector has an onion-like geometry with 9 layers surrounding the origin with polar distances of $R = [39,85,155,213,271,405,562,762,1000]$ cm. These layers have a very small thicknesses compared to the distances, therefore the thickness can be neglected.\n",
    "\n",
    "Each layer is segmented in azimuth with high granularity. There are ($2\\pi$R/pitch)+1 pixels in every layer, where pitch is 0.025 cm for layers 0-4 and 0.05 cm for layers 5-9.\n",
    "\n",
    "Every \"pixel\" corresponds to the smallest detector unit defined by `layer` and `iphi` (azimuthal index).\n",
    "\n",
    "## Simulation\n",
    "\n",
    "The task uses a toy model for particle generation and simulation, in which a Poisson distribution is sampled to determine the number of particles in each event, with an average of 10 particles per event.\n",
    "\n",
    "The particles are sampled uniformly in azimuth and momentum with bounds on the momentum. Each particle originates from a vertex that is also randomly sampled from a narrow normal distribution around the origin. The proper dimensions of the momentum and position and determination of these values for the tracks are beyond the scope of the challenge.\n",
    "\n",
    "The particles generated this way are simulated in a uniform magnetic field. The detector material is considered to cause multiple-scattering, and this is implemented as a random rotation of the particle momentum at every detector position, sampled from a narrow normal distribution that roughly corresponds to the material of the Atlas tracker.\n",
    "\n",
    "In addition, some hit inefficiency is simulated by a random drop of some hits (with 3% probability), and a particle stopping probability of 1% is applied at each layer to simulate effects of hadronic interactions. Keeping these in mind, the algorithms might be desired to be able to handle cases when the particle doesn't have a hit on every layer.\n",
    "\n",
    "Since the detector has a very high granularity in azimuth, the cases where two particles pass through a single pixel are neglected (less than 0.2% probability).\n",
    "\n"
   ]
  },
  {
   "cell_type": "markdown",
   "metadata": {},
   "source": [
    "## About this notebook\n",
    "\n",
    "This notebook demonstrate how linear approximation of a track can be used for track pattern recognition. The notebook describes input data, the track pattern recognition method and qualyti metrics, and shows how to use them."
   ]
  },
  {
   "cell_type": "code",
   "execution_count": 5,
   "metadata": {},
   "outputs": [],
   "source": [
    "#!sudo pip install sklearn==0.18.1"
   ]
  },
  {
   "cell_type": "markdown",
   "metadata": {},
   "source": [
    "# Input data"
   ]
  },
  {
   "cell_type": "code",
   "execution_count": 6,
   "metadata": {},
   "outputs": [
    {
     "data": {
      "text/html": [
       "<div>\n",
       "<style scoped>\n",
       "    .dataframe tbody tr th:only-of-type {\n",
       "        vertical-align: middle;\n",
       "    }\n",
       "\n",
       "    .dataframe tbody tr th {\n",
       "        vertical-align: top;\n",
       "    }\n",
       "\n",
       "    .dataframe thead th {\n",
       "        text-align: right;\n",
       "    }\n",
       "</style>\n",
       "<table border=\"1\" class=\"dataframe\">\n",
       "  <thead>\n",
       "    <tr style=\"text-align: right;\">\n",
       "      <th></th>\n",
       "      <th>event_id</th>\n",
       "      <th>cluster_id</th>\n",
       "      <th>layer</th>\n",
       "      <th>iphi</th>\n",
       "      <th>x</th>\n",
       "      <th>y</th>\n",
       "    </tr>\n",
       "  </thead>\n",
       "  <tbody>\n",
       "    <tr>\n",
       "      <th>0</th>\n",
       "      <td>3</td>\n",
       "      <td>4</td>\n",
       "      <td>4</td>\n",
       "      <td>53253</td>\n",
       "      <td>53.900430</td>\n",
       "      <td>-265.585662</td>\n",
       "    </tr>\n",
       "    <tr>\n",
       "      <th>1</th>\n",
       "      <td>3</td>\n",
       "      <td>1</td>\n",
       "      <td>5</td>\n",
       "      <td>37216</td>\n",
       "      <td>-47.614439</td>\n",
       "      <td>-402.191329</td>\n",
       "    </tr>\n",
       "    <tr>\n",
       "      <th>2</th>\n",
       "      <td>3</td>\n",
       "      <td>1</td>\n",
       "      <td>0</td>\n",
       "      <td>7181</td>\n",
       "      <td>-4.253919</td>\n",
       "      <td>-38.767308</td>\n",
       "    </tr>\n",
       "    <tr>\n",
       "      <th>3</th>\n",
       "      <td>3</td>\n",
       "      <td>3</td>\n",
       "      <td>2</td>\n",
       "      <td>7937</td>\n",
       "      <td>44.418132</td>\n",
       "      <td>148.499258</td>\n",
       "    </tr>\n",
       "    <tr>\n",
       "      <th>4</th>\n",
       "      <td>3</td>\n",
       "      <td>4</td>\n",
       "      <td>0</td>\n",
       "      <td>7657</td>\n",
       "      <td>7.588600</td>\n",
       "      <td>-38.254583</td>\n",
       "    </tr>\n",
       "  </tbody>\n",
       "</table>\n",
       "</div>"
      ],
      "text/plain": [
       "   event_id  cluster_id  layer   iphi          x           y\n",
       "0         3           4      4  53253  53.900430 -265.585662\n",
       "1         3           1      5  37216 -47.614439 -402.191329\n",
       "2         3           1      0   7181  -4.253919  -38.767308\n",
       "3         3           3      2   7937  44.418132  148.499258\n",
       "4         3           4      0   7657   7.588600  -38.254583"
      ]
     },
     "execution_count": 6,
     "metadata": {},
     "output_type": "execute_result"
    }
   ],
   "source": [
    "name = \"public_train\"\n",
    "data = pandas.read_csv('datasets/'+name+'.csv', index_col=False)\n",
    "#data = data[data['event_id'].values < 100]\n",
    "\n",
    "data.head()"
   ]
  },
  {
   "cell_type": "markdown",
   "metadata": {},
   "source": [
    "## Exploratory data analysis"
   ]
  },
  {
   "cell_type": "markdown",
   "metadata": {},
   "source": [
    "### Data Preparation"
   ]
  },
  {
   "cell_type": "code",
   "execution_count": 7,
   "metadata": {},
   "outputs": [],
   "source": [
    "X = data.drop(['cluster_id'], axis=1).values\n",
    "y = data[['event_id', 'cluster_id']].values"
   ]
  },
  {
   "cell_type": "markdown",
   "metadata": {},
   "source": [
    "### Visualize the hits in a single event"
   ]
  },
  {
   "cell_type": "code",
   "execution_count": 8,
   "metadata": {},
   "outputs": [],
   "source": [
    "# Get event ids\n",
    "event_ids = X[:, 0]\n",
    "\n",
    "# Estimate unique event ids\n",
    "unique_event_ids = np.unique(event_ids)\n",
    "\n",
    "# Choose an event\n",
    "i_event = unique_event_ids[0]\n",
    "\n",
    "X_event = X[event_ids == i_event]\n",
    "y_event = y[event_ids == i_event]"
   ]
  },
  {
   "cell_type": "code",
   "execution_count": 9,
   "metadata": {},
   "outputs": [],
   "source": [
    "def plot_event(X, y=None):\n",
    "    \n",
    "    cmap = ['k', 'b', 'y', 'g', 'r', 'k']\n",
    "    R=[39, 85, 155, 213, 271, 405, 562, 762, 1000]\n",
    "    \n",
    "    hit_x = X[:, 3]\n",
    "    hit_y = X[:, 4]\n",
    "    \n",
    "    plt.figure(figsize=(6, 6))\n",
    "    if y is None:\n",
    "        plt.scatter(hit_x, hit_y)\n",
    "        \n",
    "    if y is not None:\n",
    "        for i_track in np.unique(y):\n",
    "            track_mask = y == i_track\n",
    "            track_x = hit_x[track_mask]\n",
    "            track_y = hit_y[track_mask]\n",
    "            track_r = np.sqrt(track_x**2 + track_y**2)\n",
    "            sorted_ids = np.argsort(track_r)\n",
    "            plt.plot(track_x[sorted_ids], track_y[sorted_ids], color=cmap[int(i_track) % len(cmap)])\n",
    "            plt.scatter(track_x[sorted_ids], track_y[sorted_ids], color=cmap[int(i_track) % len(cmap)])\n",
    "        \n",
    "    for ar in R:\n",
    "        circle=plt.Circle((0,0), ar, color='0.5', fill=False)\n",
    "        plt.gcf().gca().add_artist(circle)\n",
    "    \n",
    "    plt.xlim(-1100, 1100)\n",
    "    plt.ylim(-1100, 1100)\n",
    "    plt.xticks(size=12)\n",
    "    plt.yticks(size=12)\n",
    "    plt.xlabel('X', size=12)\n",
    "    plt.ylabel('Y', size=12)\n",
    "    plt.show()"
   ]
  },
  {
   "cell_type": "code",
   "execution_count": 10,
   "metadata": {},
   "outputs": [
    {
     "name": "stdout",
     "output_type": "stream",
     "text": [
      "You have this:\n"
     ]
    },
    {
     "data": {
      "image/png": "[encoded data removed]",
      "text/plain": [
       "<matplotlib.figure.Figure at 0x1288bfd68>"
      ]
     },
     "metadata": {},
     "output_type": "display_data"
    },
    {
     "name": "stdout",
     "output_type": "stream",
     "text": [
      "You need to get this:\n"
     ]
    },
    {
     "data": {
      "image/png": "[encoded data removed]",
      "text/plain": [
       "<matplotlib.figure.Figure at 0x10977fe48>"
      ]
     },
     "metadata": {},
     "output_type": "display_data"
    }
   ],
   "source": [
    "print(\"You have this:\")\n",
    "plot_event(X_event, None)\n",
    "\n",
    "print(\"You need to get this:\")\n",
    "plot_event(X_event, y_event[:, 1])"
   ]
  },
  {
   "cell_type": "markdown",
   "metadata": {},
   "source": [
    "## Train/Test Split"
   ]
  },
  {
   "cell_type": "code",
   "execution_count": 11,
   "metadata": {},
   "outputs": [],
   "source": [
    "from sklearn.model_selection import train_test_split\n",
    "\n",
    "\n",
    "event_ids = numpy.unique(data['event_id'].values)\n",
    "\n",
    "event_ids_train, event_ids_test = train_test_split(event_ids, \n",
    "                                                   test_size=1000, \n",
    "                                                   random_state=42)\n",
    "\n",
    "X_train, y_train = X[data['event_id'].isin(event_ids_train)], y[data['event_id'].isin(event_ids_train)]\n",
    "X_test, y_test   = X[data['event_id'].isin(event_ids_test)],  y[data['event_id'].isin(event_ids_test)]"
   ]
  },
  {
   "cell_type": "markdown",
   "metadata": {},
   "source": [
    "# Track Pattern Recognition"
   ]
  },
  {
   "cell_type": "markdown",
   "metadata": {},
   "source": [
    "## Clustering based approach\n",
    "\n",
    "This method is based on the clustering methods. "
   ]
  },
  {
   "cell_type": "code",
   "execution_count": 12,
   "metadata": {},
   "outputs": [],
   "source": [
    "class Clusterer(object):\n",
    "\n",
    "    def __init__(self, cluster=None):\n",
    "\n",
    "        self.cluster = cluster\n",
    "\n",
    "    def get_polar(self, x, y):\n",
    "\n",
    "        x = numpy.array(x)\n",
    "        y = numpy.array(y)\n",
    "\n",
    "        phi = numpy.arctan2(y, x)\n",
    "        r = numpy.sqrt(x**2 + y**2)\n",
    "\n",
    "        return r, phi\n",
    "\n",
    "    \n",
    "    def fit(self, X, y):\n",
    "        pass\n",
    "\n",
    "    \n",
    "    def predict_single_event(self, X):\n",
    "\n",
    "        x, y = X[:, 3], X[:, 4]\n",
    "        r, phi = self.get_polar(x, y)\n",
    "\n",
    "        self.cluster.fit(phi.reshape(-1, 1))\n",
    "        labels = self.cluster.labels_\n",
    "        \n",
    "        return labels"
   ]
  },
  {
   "cell_type": "code",
   "execution_count": 13,
   "metadata": {},
   "outputs": [],
   "source": [
    "from sklearn.cluster import KMeans\n",
    "\n",
    "ctr = Clusterer(cluster=KMeans(n_clusters=10, n_init=1))"
   ]
  },
  {
   "cell_type": "markdown",
   "metadata": {},
   "source": [
    "### Test on single event"
   ]
  },
  {
   "cell_type": "code",
   "execution_count": 14,
   "metadata": {},
   "outputs": [
    {
     "data": {
      "text/plain": [
       "array([2, 5, 5, 0, 2, 8, 7, 0, 0, 1, 8, 5, 4, 0, 4, 6, 8, 7, 3, 2, 8, 4,\n",
       "       0, 1, 7, 9, 4, 4, 5, 4, 5, 4, 0, 1, 4, 2, 1, 2, 6, 0, 1, 9, 5, 0,\n",
       "       7, 5, 2, 2, 3, 1, 5, 0, 8, 6, 4], dtype=int32)"
      ]
     },
     "execution_count": 14,
     "metadata": {},
     "output_type": "execute_result"
    }
   ],
   "source": [
    "y_event_pred = ctr.predict_single_event(X_event)\n",
    "y_event_pred"
   ]
  },
  {
   "cell_type": "code",
   "execution_count": 15,
   "metadata": {},
   "outputs": [
    {
     "name": "stdout",
     "output_type": "stream",
     "text": [
      "Recognized tracks:\n"
     ]
    },
    {
     "data": {
      "image/png": "[encoded data removed]",
      "text/plain": [
       "<matplotlib.figure.Figure at 0x109ba5cc0>"
      ]
     },
     "metadata": {},
     "output_type": "display_data"
    }
   ],
   "source": [
    "print(\"Recognized tracks:\")\n",
    "plot_event(X_event, y_event_pred)"
   ]
  },
  {
   "cell_type": "markdown",
   "metadata": {},
   "source": [
    "### Test on several events"
   ]
  },
  {
   "cell_type": "code",
   "execution_count": 16,
   "metadata": {},
   "outputs": [
    {
     "name": "stdout",
     "output_type": "stream",
     "text": [
      "CPU times: user 4.75 s, sys: 60.1 ms, total: 4.81 s\n",
      "Wall time: 5.28 s\n"
     ]
    }
   ],
   "source": [
    "%%time\n",
    "from metrics import predictor\n",
    "y_pred_test = predictor(ctr, X_test, y_test)"
   ]
  },
  {
   "cell_type": "code",
   "execution_count": 17,
   "metadata": {},
   "outputs": [
    {
     "name": "stdout",
     "output_type": "stream",
     "text": [
      "Score: 0.8169\n"
     ]
    }
   ],
   "source": [
    "score = submission.score_function(y_test, y_pred_test)\n",
    "print(\"Score: {:1.4f}\".format(score))"
   ]
  },
  {
   "cell_type": "markdown",
   "metadata": {},
   "source": [
    "## RNN-based clustering of a Track"
   ]
  },
  {
   "cell_type": "markdown",
   "metadata": {},
   "source": [
    "We will use a basic LSTM model architecture used to classify hits for one track. The LSTM and a fully-connected layer with a softmax activation read the pixel arrays and predict which pixels belong to the target track.\n",
    "\n",
    "<img src=\"pic/model.png\" width=\"600\"/> <br>"
   ]
  },
  {
   "cell_type": "code",
   "execution_count": 18,
   "metadata": {},
   "outputs": [],
   "source": [
    "class det_geo():\n",
    "    layer_r     = np.array([39,    85,    155,   213,   271,   405,  562,  762,  1000])\n",
    "    layer_pitch = np.array([0.025, 0.025, 0.025, 0.025, 0.025, 0.05, 0.05, 0.05, 0.05])\n",
    "    num_layers = layer_r.shape[0]\n",
    "    max_phi = (2 * np.pi * layer_r / layer_pitch + 1).astype(np.int)\n",
    "\n",
    "    \n",
    "def rescale_phi(phi, nbin, layer):\n",
    "    return (phi * float(nbin) / det_geo.max_phi[layer.astype(np.int)]).astype(np.int)\n",
    "\n",
    "\n",
    "def event_hits_transform(X, y=None, num_phi_bin=100):\n",
    "    \n",
    "    evids, layers, phis = X[:,0].astype(np.int), X[:,1].astype(np.int), X[:,2].astype(np.int)\n",
    "    phis = rescale_phi(phis, num_phi_bin, layers)\n",
    "    \n",
    "    # Count the number of first-layer hits, which will be my seeds\n",
    "    seed_idx = np.where(layers == 0)[0]\n",
    "    num_seeds = seed_idx.size\n",
    "\n",
    "    # Training input will contain the seed hit followed by the rest of the event\n",
    "    train_input = np.zeros((num_seeds, det_geo.num_layers, num_phi_bin))\n",
    "    # Training targets will be images of the individual signal tracks\n",
    "    train_target = np.zeros_like(train_input)\n",
    "\n",
    "    # Loop over training samples to prepare (seeds)\n",
    "    for i_sample in range(num_seeds):\n",
    "        \n",
    "        i_hit = seed_idx[i_sample]\n",
    "\n",
    "        # Fill the input first layer with just the seed hit\n",
    "        train_input[i_sample, 0, phis[i_hit]] = 1\n",
    "        # Fill the other layers with all remaining event hits\n",
    "        train_input[i_sample, layers[layers > 0], phis[layers > 0]] = 1\n",
    "\n",
    "        # Fill target with hits from this track\n",
    "        if y is not None:\n",
    "            track_ids = y[:, 1]\n",
    "            seed_track_id = y[i_hit, 1]\n",
    "            train_target[i_sample, layers[track_ids == seed_track_id], phis[track_ids == seed_track_id]] = 1\n",
    "        \n",
    "    return train_input, train_target"
   ]
  },
  {
   "cell_type": "code",
   "execution_count": 19,
   "metadata": {},
   "outputs": [],
   "source": [
    "X_event_rnn, y_event_rnn = event_hits_transform(X_event, y_event)"
   ]
  },
  {
   "cell_type": "code",
   "execution_count": 20,
   "metadata": {},
   "outputs": [
    {
     "data": {
      "text/plain": [
       "((7, 9, 100), (7, 9, 100))"
      ]
     },
     "execution_count": 20,
     "metadata": {},
     "output_type": "execute_result"
    }
   ],
   "source": [
    "X_event_rnn.shape, y_event_rnn.shape"
   ]
  },
  {
   "cell_type": "code",
   "execution_count": 21,
   "metadata": {},
   "outputs": [],
   "source": [
    "def plot_event_polar(X):\n",
    "    \n",
    "    plt.figure(figsize=(6, 6))\n",
    "    \n",
    "    plt.pcolor(X.T)\n",
    "    \n",
    "    plt.xticks(size=12)\n",
    "    plt.yticks(size=12)\n",
    "    \n",
    "    plt.xlabel('Layer bins', size=12)\n",
    "    plt.ylabel('Phi bins', size=12)\n",
    "    \n",
    "    plt.show()"
   ]
  },
  {
   "cell_type": "code",
   "execution_count": 22,
   "metadata": {},
   "outputs": [
    {
     "name": "stdout",
     "output_type": "stream",
     "text": [
      "RNN input for one track of an event:\n"
     ]
    },
    {
     "data": {
      "image/png": "[encoded data removed]",
      "text/plain": [
       "<matplotlib.figure.Figure at 0x11bb7b278>"
      ]
     },
     "metadata": {},
     "output_type": "display_data"
    },
    {
     "name": "stdout",
     "output_type": "stream",
     "text": [
      "RNN output for the track:\n"
     ]
    },
    {
     "data": {
      "image/png": "[encoded data removed]",
      "text/plain": [
       "<matplotlib.figure.Figure at 0x11bb226a0>"
      ]
     },
     "metadata": {},
     "output_type": "display_data"
    }
   ],
   "source": [
    "i_train = 0\n",
    "\n",
    "print(\"RNN input for one track of an event:\")\n",
    "plot_event_polar(X_event_rnn[i_train])\n",
    "\n",
    "print(\"RNN output for the track:\")\n",
    "plot_event_polar(y_event_rnn[i_train])"
   ]
  },
  {
   "cell_type": "code",
   "execution_count": null,
   "metadata": {},
   "outputs": [],
   "source": []
  },
  {
   "cell_type": "code",
   "execution_count": 23,
   "metadata": {},
   "outputs": [],
   "source": [
    "num_phi_bin = 100\n",
    "train_input = []\n",
    "train_target = []\n",
    "\n",
    "event_ids = X_train[:, 0]\n",
    "unique_event_ids = np.unique(event_ids)\n",
    "for i_event in unique_event_ids:\n",
    "    X_event = X_train[event_ids == i_event]\n",
    "    y_event = y_train[event_ids == i_event]\n",
    "\n",
    "    train_input_ev, train_target_ev = event_hits_transform(X_event, y_event, num_phi_bin)\n",
    "    \n",
    "    train_input.append(train_input_ev)\n",
    "    train_target.append(train_target_ev)\n",
    "\n",
    "X_train_rnn = np.concatenate(tuple(train_input))\n",
    "y_train_rnn = np.concatenate(tuple(train_target))"
   ]
  },
  {
   "cell_type": "code",
   "execution_count": 24,
   "metadata": {},
   "outputs": [
    {
     "data": {
      "text/plain": [
       "((38565, 9, 100), (38565, 9, 100))"
      ]
     },
     "execution_count": 24,
     "metadata": {},
     "output_type": "execute_result"
    }
   ],
   "source": [
    "X_train_rnn.shape, y_train_rnn.shape"
   ]
  },
  {
   "cell_type": "code",
   "execution_count": null,
   "metadata": {},
   "outputs": [],
   "source": []
  },
  {
   "cell_type": "code",
   "execution_count": 25,
   "metadata": {},
   "outputs": [],
   "source": [
    "import torch, torchvision\n",
    "\n",
    "import torch, torch.nn as nn\n",
    "import torch.nn.functional as F\n",
    "\n",
    "from torchvision import transforms\n",
    "from torch.utils.data import DataLoader"
   ]
  },
  {
   "cell_type": "code",
   "execution_count": 26,
   "metadata": {},
   "outputs": [
    {
     "data": {
      "text/plain": [
       "'cpu'"
      ]
     },
     "execution_count": 26,
     "metadata": {},
     "output_type": "execute_result"
    }
   ],
   "source": [
    "device = \"cuda\" if torch.cuda.is_available() else \"cpu\"\n",
    "device"
   ]
  },
  {
   "cell_type": "code",
   "execution_count": 27,
   "metadata": {},
   "outputs": [],
   "source": [
    "model = nn.Sequential()\n",
    "model.add_module('lstm1', nn.LSTM(100, 50))\n",
    "model.add_module('dense1', nn.Linear(50, 100))\n",
    "model.add_module('sofmax', nn.Softmax())\n",
    "model = model.to(device=device)\n",
    "\n",
    "opt = torch.optim.Adam(model.parameters())"
   ]
  },
  {
   "cell_type": "code",
   "execution_count": null,
   "metadata": {},
   "outputs": [],
   "source": []
  },
  {
   "cell_type": "code",
   "execution_count": null,
   "metadata": {},
   "outputs": [],
   "source": []
  },
  {
   "cell_type": "code",
   "execution_count": null,
   "metadata": {},
   "outputs": [],
   "source": []
  },
  {
   "cell_type": "code",
   "execution_count": null,
   "metadata": {},
   "outputs": [],
   "source": []
  },
  {
   "cell_type": "code",
   "execution_count": 28,
   "metadata": {},
   "outputs": [],
   "source": [
    "# Keras\n",
    "\n",
    "def build_model(num_hidden, length, dim,\n",
    "                loss='categorical_crossentropy',\n",
    "                optimizer='Nadam', metrics=['accuracy']):\n",
    "    inputs = layers.Input(shape=(length, dim))\n",
    "    hidden = layers.LSTM(output_dim=num_hidden, return_sequences=True)(inputs)\n",
    "    outputs = layers.TimeDistributed(layers.Dense(dim, activation='softmax'))(hidden)\n",
    "    model = models.Model(input=inputs, output=outputs)\n",
    "    model.compile(loss=loss, optimizer=optimizer, metrics=metrics)\n",
    "    return model\n",
    "\n",
    "#build_model(50, 9, 100)"
   ]
  },
  {
   "cell_type": "code",
   "execution_count": null,
   "metadata": {},
   "outputs": [],
   "source": []
  },
  {
   "cell_type": "code",
   "execution_count": null,
   "metadata": {},
   "outputs": [],
   "source": []
  },
  {
   "cell_type": "code",
   "execution_count": null,
   "metadata": {},
   "outputs": [],
   "source": []
  },
  {
   "cell_type": "code",
   "execution_count": null,
   "metadata": {},
   "outputs": [],
   "source": [
    "# trash"
   ]
  },
  {
   "cell_type": "code",
   "execution_count": 25,
   "metadata": {},
   "outputs": [],
   "source": [
    "num_phi_bin = 100"
   ]
  },
  {
   "cell_type": "code",
   "execution_count": 26,
   "metadata": {},
   "outputs": [],
   "source": [
    "num_phi_bin = 100\n",
    "train_input = []\n",
    "train_target = []\n",
    "\n",
    "event_ids = X_train[:, 0]\n",
    "unique_event_ids = np.unique(event_ids)\n",
    "for i_event in unique_event_ids:\n",
    "    X_event = X_train[event_ids == i_event]\n",
    "    y_event = y_train[event_ids == i_event]\n",
    "\n",
    "    train_input_ev, train_target_ev = event_hits_transform(X_event, y_event, num_phi_bin)\n",
    "    train_input.append(train_input_ev)\n",
    "    train_target.append(train_target_ev)\n",
    "\n",
    "train_input = np.concatenate(tuple(train_input))\n",
    "train_target = np.concatenate(tuple(train_target))"
   ]
  },
  {
   "cell_type": "code",
   "execution_count": 27,
   "metadata": {},
   "outputs": [
    {
     "data": {
      "text/plain": [
       "(1000, 50)"
      ]
     },
     "execution_count": 27,
     "metadata": {},
     "output_type": "execute_result"
    }
   ],
   "source": [
    "train_input = np.random.rand(1000, 50)\n",
    "train_input.shape"
   ]
  },
  {
   "cell_type": "code",
   "execution_count": 28,
   "metadata": {},
   "outputs": [],
   "source": [
    "#plot_event_polar(train_input[0]), plot_event_polar(train_target[0])"
   ]
  },
  {
   "cell_type": "code",
   "execution_count": 36,
   "metadata": {},
   "outputs": [],
   "source": [
    "train_y = np.random.randint(low=0, high=2, size=len(train_input))#.reshape(-1, 1)"
   ]
  },
  {
   "cell_type": "code",
   "execution_count": 37,
   "metadata": {},
   "outputs": [],
   "source": [
    "import torch, torchvision\n",
    "\n",
    "import torch, torch.nn as nn\n",
    "import torch.nn.functional as F\n",
    "\n",
    "from torchvision import transforms\n",
    "from torch.utils.data import DataLoader"
   ]
  },
  {
   "cell_type": "code",
   "execution_count": 38,
   "metadata": {},
   "outputs": [
    {
     "data": {
      "text/plain": [
       "(50,)"
      ]
     },
     "execution_count": 38,
     "metadata": {},
     "output_type": "execute_result"
    }
   ],
   "source": [
    "train_input[0].shape"
   ]
  },
  {
   "cell_type": "code",
   "execution_count": 39,
   "metadata": {},
   "outputs": [
    {
     "data": {
      "text/plain": [
       "'cpu'"
      ]
     },
     "execution_count": 39,
     "metadata": {},
     "output_type": "execute_result"
    }
   ],
   "source": [
    "device = \"cuda\" if torch.cuda.is_available() else \"cpu\"\n",
    "device"
   ]
  },
  {
   "cell_type": "code",
   "execution_count": 40,
   "metadata": {},
   "outputs": [],
   "source": [
    "model = nn.Sequential()\n",
    "#model.add_module('lstm1', nn.LSTM(100, 50))\n",
    "model.add_module('dense1', nn.Linear(50, 1))\n",
    "model.add_module('softmax', nn.Sigmoid())\n",
    "model = model.to(device=device)\n",
    "\n",
    "opt = torch.optim.Adam(model.parameters())"
   ]
  },
  {
   "cell_type": "code",
   "execution_count": 44,
   "metadata": {},
   "outputs": [],
   "source": [
    "def compute_loss(X_batch, y_batch):\n",
    "    X_batch = torch.as_tensor(X_batch, dtype=torch.float32, device=device)\n",
    "    y_batch = torch.as_tensor(y_batch, dtype=torch.int64, device=device)\n",
    "    print(y_batch.size())\n",
    "    logits = model(X_batch)\n",
    "    print(logits.size(), y_batch.size())\n",
    "    return F.cross_entropy(logits[:, 0], y_batch).mean()"
   ]
  },
  {
   "cell_type": "code",
   "execution_count": 45,
   "metadata": {},
   "outputs": [
    {
     "name": "stdout",
     "output_type": "stream",
     "text": [
      "----------------------------------------------------------------\n",
      "        Layer (type)               Output Shape         Param #\n",
      "================================================================\n",
      "            Linear-1                    [-1, 1]              51\n",
      "           Sigmoid-2                    [-1, 1]               0\n",
      "================================================================\n",
      "Total params: 51\n",
      "Trainable params: 51\n",
      "Non-trainable params: 0\n",
      "----------------------------------------------------------------\n",
      "Input size (MB): 0.00\n",
      "Forward/backward pass size (MB): 0.00\n",
      "Params size (MB): 0.00\n",
      "Estimated Total Size (MB): 0.00\n",
      "----------------------------------------------------------------\n"
     ]
    }
   ],
   "source": [
    "from torchsummary import summary\n",
    "summary(model, (50,))"
   ]
  },
  {
   "cell_type": "code",
   "execution_count": null,
   "metadata": {},
   "outputs": [],
   "source": []
  },
  {
   "cell_type": "code",
   "execution_count": null,
   "metadata": {},
   "outputs": [],
   "source": [
    "from tqdm import tqdm_notebook\n",
    "\n",
    "import numpy as np\n",
    "import time\n",
    "\n",
    "num_epochs = 100    # total number of full passes over data until training finishes\n",
    "batch_size = 64     # number of images in one minibatch\n",
    "\n",
    "for epoch in range(2):\n",
    "    start_time = time.time()\n",
    "    model.train(True) # enable dropout / batch_norm training behavior\n",
    "    for i in range(100):\n",
    "        ix = np.random.randint(0, len(train_input), 32)\n",
    "        X_batch = train_input[ix]\n",
    "        y_batch = train_y[ix]\n",
    "        print(train_input.shape, X_batch.shape, y_batch.shape)\n",
    "        # train on batch\n",
    "        loss = compute_loss(X_batch, y_batch)\n",
    "        loss.backward()\n",
    "        opt.step()\n",
    "        opt.zero_grad()\n",
    "        train_loss.append(loss.cpu().data.numpy())\n",
    "        print(i)\n",
    "    \n",
    "#     model.train(False) # disable dropout / use averages for batch_norm\n",
    "#     for i in range(100):\n",
    "#         ix = np.random.randint(0, len(test_input), 256)\n",
    "#         X_batch = test_input[ix]\n",
    "#         y_batch = test_y[ix]\n",
    "#         logits = model(torch.as_tensor(X_batch, device=device, dtype=torch.float32))\n",
    "#         y_pred = logits.max(1)[1].data\n",
    "#         val_accuracy.append(np.mean((y_batch.cpu() == y_pred.cpu()).numpy()))"
   ]
  },
  {
   "cell_type": "code",
   "execution_count": null,
   "metadata": {},
   "outputs": [],
   "source": []
  },
  {
   "cell_type": "code",
   "execution_count": 155,
   "metadata": {},
   "outputs": [],
   "source": [
    "\n",
    "from keras import layers, models\n",
    " \n",
    "class det_geo():\n",
    "    layer_r = np.array([39,85,155,213,271,405,562,762,1000])\n",
    "    layer_pitch = np.array([0.025, 0.025, 0.025, 0.025, 0.025,\n",
    "                            0.05, 0.05, 0.05, 0.05])\n",
    "    num_layers = layer_r.shape[0]\n",
    "    max_phi = (2 * np.pi * layer_r / layer_pitch + 1).astype(np.int)\n",
    "    \n",
    "def rescale_phi(phi, nbin, layer):\n",
    "    return (phi * float(nbin) / det_geo.max_phi[layer.astype(np.int)]).astype(np.int)\n",
    " \n",
    "def build_model(num_hidden, length, dim,\n",
    "                loss='categorical_crossentropy',\n",
    "                optimizer='Nadam', metrics=['accuracy']):\n",
    "    inputs = layers.Input(shape=(length, dim))\n",
    "    hidden = layers.LSTM(output_dim=num_hidden, return_sequences=True)(inputs)\n",
    "    outputs = layers.TimeDistributed(layers.Dense(dim, activation='softmax'))(hidden)\n",
    "    model = models.Model(input=inputs, output=outputs)\n",
    "    model.compile(loss=loss, optimizer=optimizer, metrics=metrics)\n",
    "    return model\n",
    " \n",
    "class Clusterer(BaseEstimator):\n",
    "    def __init__(self, min_cos_value=0.9):\n",
    "        \"\"\"\n",
    "        Track Pattern Recognition based on the connections between two nearest hits from two nearest detector layers.\n",
    "        Parameters\n",
    "        ----------\n",
    "        min_cos_value : float\n",
    "            Minimum cos value between two nearest segments of the track.\n",
    "        \"\"\"\n",
    "        self.min_cos_value = min_cos_value\n",
    "        self.num_phi_bin = 100\n",
    "        self.model = build_model(50, det_geo.layer_r.shape[0], self.num_phi_bin)\n",
    "        self.batch_size = 100\n",
    "        self.num_epoch = 2\n",
    " \n",
    "    def fit(self, X, y):\n",
    "        \n",
    "        self.train_input = []\n",
    "        self.train_target = []\n",
    "        \n",
    "        event_ids = X[:, 0]\n",
    "        unique_event_ids = np.unique(event_ids)\n",
    "        for i_event in unique_event_ids:\n",
    "            X_event = X[event_ids == i_event]\n",
    "            y_event = y[event_ids == i_event]\n",
    "            \n",
    "            train_input_ev, train_target_ev = event_hits_transform(X_event, y_event, self.num_phi_bin)\n",
    "            self.train_input.append(train_input_ev)\n",
    "            self.train_target.append(train_target_ev)\n",
    "            \n",
    "        self.train_input = np.concatenate(tuple(self.train_input))\n",
    "        self.train_target = np.concatenate(tuple(self.train_target))\n",
    "        \n",
    " \n",
    "        print('Starting training...')      \n",
    "        self.history = self.model.fit(self.train_input, \n",
    "                                      self.train_target,\n",
    "                                      batch_size=self.batch_size, \n",
    "                                      nb_epoch=self.num_epoch)\n",
    " \n",
    "    def predict_single_event(self, X_event):\n",
    "        \n",
    "        # We need to now transform the data into the format needed for my algorithm\n",
    "        lays, phis = X_event[:,1].astype(np.int), X_event[:,2].astype(np.int)\n",
    "        # Rebin phi\n",
    "        phis = rescale_phi(phis, self.num_phi_bin, lays)\n",
    "        \n",
    "        self.test_input, _ = event_hits_transform(X_event, None, self.num_phi_bin)\n",
    "        \n",
    "        # Run the model prediction\n",
    "        self.test_pred = self.model.predict(self.test_input)\n",
    "        \n",
    "        # Now we need to loop over all hits and decide which track they belong to\n",
    "        trkid = np.zeros(X_event.shape[0])\n",
    "        for i in range(trkid.shape[0]):\n",
    "            lay, phi = lays[i], phis[i]\n",
    "            \n",
    "            # Get the list of track scores\n",
    "            scores = self.test_pred[:, lays[i], phis[i]]\n",
    "            #print 'scores:', scores\n",
    "            \n",
    "            # Select the best score\n",
    "            best = np.argmax(scores)\n",
    "            #print 'best:', best\n",
    "            trkid[i] = best\n",
    "        \n",
    "        return trkid"
   ]
  },
  {
   "cell_type": "code",
   "execution_count": 156,
   "metadata": {},
   "outputs": [],
   "source": [
    "event_id = np.unique(X[:, 0])[0]\n",
    "\n",
    "X_event = X[X[:, 0] == event_id]\n",
    "y_event = y[X[:, 0] == event_id]"
   ]
  },
  {
   "cell_type": "code",
   "execution_count": 157,
   "metadata": {},
   "outputs": [],
   "source": [
    "train_input, train_target = event_hits_transform(X_event, y_event)"
   ]
  },
  {
   "cell_type": "code",
   "execution_count": 158,
   "metadata": {},
   "outputs": [
    {
     "data": {
      "image/png": "[encoded data removed]",
      "text/plain": [
       "<matplotlib.figure.Figure at 0x1d55e3080>"
      ]
     },
     "metadata": {},
     "output_type": "display_data"
    }
   ],
   "source": [
    "plt.imshow(train_input[0].T)\n",
    "plt.show()"
   ]
  },
  {
   "cell_type": "code",
   "execution_count": 159,
   "metadata": {},
   "outputs": [
    {
     "data": {
      "image/png": "[encoded data removed]",
      "text/plain": [
       "<matplotlib.figure.Figure at 0x1287dbfd0>"
      ]
     },
     "metadata": {},
     "output_type": "display_data"
    }
   ],
   "source": [
    "plt.imshow(train_target[0].T)\n",
    "plt.show()"
   ]
  },
  {
   "cell_type": "code",
   "execution_count": 160,
   "metadata": {},
   "outputs": [
    {
     "name": "stdout",
     "output_type": "stream",
     "text": [
      "Starting training...\n",
      "Epoch 1/2\n",
      "38565/38565 [==============================] - 9s 236us/step - loss: 3.3538 - acc: 0.3328\n",
      "Epoch 2/2\n",
      "38565/38565 [==============================] - 11s 281us/step - loss: 1.8727 - acc: 0.6010\n"
     ]
    }
   ],
   "source": [
    "ctr = Clusterer()\n",
    "ctr.fit(X_train, y_train)"
   ]
  },
  {
   "cell_type": "code",
   "execution_count": 161,
   "metadata": {},
   "outputs": [
    {
     "data": {
      "text/plain": [
       "(9, 100)"
      ]
     },
     "execution_count": 161,
     "metadata": {},
     "output_type": "execute_result"
    }
   ],
   "source": [
    "ctr.train_input[0].shape"
   ]
  },
  {
   "cell_type": "code",
   "execution_count": 162,
   "metadata": {},
   "outputs": [
    {
     "data": {
      "text/plain": [
       "(347085, 100)"
      ]
     },
     "execution_count": 162,
     "metadata": {},
     "output_type": "execute_result"
    }
   ],
   "source": [
    "np.concatenate(tuple(ctr.train_input)).shape"
   ]
  },
  {
   "cell_type": "code",
   "execution_count": 163,
   "metadata": {},
   "outputs": [
    {
     "name": "stdout",
     "output_type": "stream",
     "text": [
      "_________________________________________________________________\n",
      "Layer (type)                 Output Shape              Param #   \n",
      "=================================================================\n",
      "input_16 (InputLayer)        (None, 9, 100)            0         \n",
      "_________________________________________________________________\n",
      "lstm_16 (LSTM)               (None, 9, 50)             30200     \n",
      "_________________________________________________________________\n",
      "time_distributed_16 (TimeDis (None, 9, 100)            5100      \n",
      "=================================================================\n",
      "Total params: 35,300\n",
      "Trainable params: 35,300\n",
      "Non-trainable params: 0\n",
      "_________________________________________________________________\n"
     ]
    }
   ],
   "source": [
    "ctr.model.summary()"
   ]
  },
  {
   "cell_type": "code",
   "execution_count": 164,
   "metadata": {},
   "outputs": [],
   "source": [
    "y_pred_test = predictor(ctr, X_test, y_test)"
   ]
  },
  {
   "cell_type": "code",
   "execution_count": 165,
   "metadata": {},
   "outputs": [
    {
     "name": "stdout",
     "output_type": "stream",
     "text": [
      "Score: 0.8544\n"
     ]
    }
   ],
   "source": [
    "score = submission.score_function(y_test, y_pred_test)\n",
    "print(\"Score: {:1.4f}\".format(score))"
   ]
  },
  {
   "cell_type": "code",
   "execution_count": 22,
   "metadata": {},
   "outputs": [],
   "source": [
    "#TODO: implement some visualisations"
   ]
  },
  {
   "cell_type": "markdown",
   "metadata": {},
   "source": [
    "# Tasks:\n",
    "1. Define a new function ```build_deep_model``` and create a new model: add a few dense layers before and after the LSTM layer. Play a bit with the shapes of the layers.\n",
    "2. Define a new function ```build_bidirectional_model``` and create a new model: use a bidirectional LSTM layers instead of a single LSTM layer. Use ```keras.layers.Bidirectional``` layer wrapper. Play a bit with the shapes of the layers.\n"
   ]
  },
  {
   "cell_type": "markdown",
   "metadata": {},
   "source": [
    "# Solutions:"
   ]
  },
  {
   "cell_type": "code",
   "execution_count": 23,
   "metadata": {},
   "outputs": [],
   "source": [
    "def build_deep_model(num_hidden, length, dim,\n",
    "                loss='categorical_crossentropy',\n",
    "                optimizer='Nadam', metrics=['accuracy']):\n",
    "    inputs = layers.Input(shape=(length, dim))\n",
    "    hidden = layers.TimeDistributed(layers.Dense(num_hidden, activation='softmax'))(inputs)\n",
    "    hidden = layers.LSTM(output_dim=num_hidden, return_sequences=True)(hidden)\n",
    "    hidden = layers.TimeDistributed(layers.Dense(num_hidden, activation='softmax'))(hidden)\n",
    "    outputs = layers.TimeDistributed(layers.Dense(dim, activation='softmax'))(hidden)\n",
    "    model = models.Model(input=inputs, output=outputs)\n",
    "    model.compile(loss=loss, optimizer=optimizer, metrics=metrics)\n",
    "    return model"
   ]
  },
  {
   "cell_type": "code",
   "execution_count": 24,
   "metadata": {},
   "outputs": [],
   "source": [
    "def build_bidirectional_model(num_hidden, length, dim,\n",
    "                loss='categorical_crossentropy',\n",
    "                optimizer='Nadam', metrics=['accuracy']):\n",
    "    inputs = layers.Input(shape=(length, dim))\n",
    "    hidden = layers.Bidirectional(layers.LSTM(output_dim=num_hidden, return_sequences=True))(inputs)\n",
    "    outputs = layers.TimeDistributed(layers.Dense(dim, activation='softmax'))(hidden)\n",
    "    model = models.Model(input=inputs, output=outputs)\n",
    "    model.compile(loss=loss, optimizer=optimizer, metrics=metrics)\n",
    "    return model"
   ]
  },
  {
   "cell_type": "code",
   "execution_count": null,
   "metadata": {},
   "outputs": [],
   "source": []
  },
  {
   "cell_type": "code",
   "execution_count": null,
   "metadata": {},
   "outputs": [],
   "source": []
  },
  {
   "cell_type": "code",
   "execution_count": 310,
   "metadata": {},
   "outputs": [
    {
     "name": "stdout",
     "output_type": "stream",
     "text": [
      "--2019-07-04 09:54:52--  https://raw.githubusercontent.com/yandexdataschool/mlhep2019/master/notebooks/day-4/Bayesian/logger.py\n",
      "Resolving raw.githubusercontent.com... 151.101.112.133\n",
      "Connecting to raw.githubusercontent.com|151.101.112.133|:443... connected.\n",
      "HTTP request sent, awaiting response... 200 OK\n",
      "Length: 2697 (2.6K) [text/plain]\n",
      "Saving to: ‘logger.py’\n",
      "\n",
      "logger.py           100%[===================>]   2.63K  --.-KB/s    in 0s      \n",
      "\n",
      "2019-07-04 09:54:53 (18.2 MB/s) - ‘logger.py’ saved [2697/2697]\n",
      "\n"
     ]
    }
   ],
   "source": [
    "!wget https://raw.githubusercontent.com/yandexdataschool/mlhep2019/master/notebooks/day-4/Bayesian/logger.py"
   ]
  },
  {
   "cell_type": "code",
   "execution_count": null,
   "metadata": {},
   "outputs": [],
   "source": []
  }
 ],
 "metadata": {
  "kernelspec": {
   "display_name": "Python 3",
   "language": "python",
   "name": "python3"
  },
  "language_info": {
   "codemirror_mode": {
    "name": "ipython",
    "version": 3
   },
   "file_extension": ".py",
   "mimetype": "text/x-python",
   "name": "python",
   "nbconvert_exporter": "python",
   "pygments_lexer": "ipython3",
   "version": "3.6.0"
  }
 },
 "nbformat": 4,
 "nbformat_minor": 1
}
